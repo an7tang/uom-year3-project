{
 "cells": [
  {
   "cell_type": "code",
   "execution_count": 4,
   "metadata": {},
   "outputs": [],
   "source": [
    "import os, json\n",
    "from dotenv import load_dotenv\n",
    "import openai\n",
    "\n",
    "load_dotenv()\n",
    "\n",
    "openai.api_key = os.getenv(\"OPENAI_API_KEY\")\n",
    "\n",
    "model_davinci = \"text-davinci-003\"  # Best model\n",
    "model_curie = \"text-curie-001\"  # Second-best, but faster (May be suitable for sentiment classification)\n"
   ]
  },
  {
   "cell_type": "code",
   "execution_count": null,
   "metadata": {},
   "outputs": [],
   "source": [
    "tweets_list = [\n",
    "    \"I can't stand homework\", \n",
    "    \"This sucks. I'm bored 😠\",\n",
    "    \"I can't wait for Halloween!!!\",\n",
    "    \"My cat is adorable ❤️❤️\",\n",
    "    \"I hate chocolate\",\n",
    "    \"I will go to the gym tomorrow\"\n",
    "]\n",
    "\n",
    "path_dataset = \"/Users/anqitang/code/uom/year3/year_project/dataset/raw/tweets_230212_#50_(230213-160745).json\"\n",
    "with open(path_dataset, \"r\") as f:\n",
    "    dataset = json.load(f)\n",
    "\n",
    "def insert_tweets(tweets_list):\n",
    "    result = \"\"\n",
    "    for i, tweet in enumerate(tweets_list):\n",
    "        result += f\"{i}.\\n{tweet['content']}\\n\"\n",
    "    \n",
    "    return result\n",
    "\n",
    "# print(insert_tweets(dataset))"
   ]
  },
  {
   "cell_type": "code",
   "execution_count": 2,
   "metadata": {},
   "outputs": [
    {
     "ename": "NameError",
     "evalue": "name 'insert_tweets' is not defined",
     "output_type": "error",
     "traceback": [
      "\u001b[0;31m---------------------------------------------------------------------------\u001b[0m",
      "\u001b[0;31mNameError\u001b[0m                                 Traceback (most recent call last)",
      "\u001b[1;32m/Users/anqitang/code/uom/year3/year_project/uom-year3-project/chatgpt.ipynb Cell 3\u001b[0m in \u001b[0;36m<cell line: 1>\u001b[0;34m()\u001b[0m\n\u001b[1;32m      <a href='vscode-notebook-cell:/Users/anqitang/code/uom/year3/year_project/uom-year3-project/chatgpt.ipynb#W2sZmlsZQ%3D%3D?line=0'>1</a>\u001b[0m prompt \u001b[39m=\u001b[39m \u001b[39mf\u001b[39m\u001b[39m'''\u001b[39m\u001b[39mClassify the sentiment in these tweets, using 1, 0, -1 to represent positive, neutral and negative respectively. The result should be json format.\u001b[39m\n\u001b[1;32m      <a href='vscode-notebook-cell:/Users/anqitang/code/uom/year3/year_project/uom-year3-project/chatgpt.ipynb#W2sZmlsZQ%3D%3D?line=1'>2</a>\u001b[0m \n\u001b[0;32m----> <a href='vscode-notebook-cell:/Users/anqitang/code/uom/year3/year_project/uom-year3-project/chatgpt.ipynb#W2sZmlsZQ%3D%3D?line=2'>3</a>\u001b[0m \u001b[39m{\u001b[39;00minsert_tweets(dataset)\u001b[39m}\u001b[39;00m\n\u001b[1;32m      <a href='vscode-notebook-cell:/Users/anqitang/code/uom/year3/year_project/uom-year3-project/chatgpt.ipynb#W2sZmlsZQ%3D%3D?line=3'>4</a>\u001b[0m \n\u001b[1;32m      <a href='vscode-notebook-cell:/Users/anqitang/code/uom/year3/year_project/uom-year3-project/chatgpt.ipynb#W2sZmlsZQ%3D%3D?line=4'>5</a>\u001b[0m \u001b[39mThe result should be json format.\u001b[39m\n\u001b[1;32m      <a href='vscode-notebook-cell:/Users/anqitang/code/uom/year3/year_project/uom-year3-project/chatgpt.ipynb#W2sZmlsZQ%3D%3D?line=5'>6</a>\u001b[0m \u001b[39m'''\u001b[39m\n\u001b[1;32m      <a href='vscode-notebook-cell:/Users/anqitang/code/uom/year3/year_project/uom-year3-project/chatgpt.ipynb#W2sZmlsZQ%3D%3D?line=7'>8</a>\u001b[0m response \u001b[39m=\u001b[39m openai\u001b[39m.\u001b[39mCompletion\u001b[39m.\u001b[39mcreate(\n\u001b[1;32m      <a href='vscode-notebook-cell:/Users/anqitang/code/uom/year3/year_project/uom-year3-project/chatgpt.ipynb#W2sZmlsZQ%3D%3D?line=8'>9</a>\u001b[0m       model\u001b[39m=\u001b[39mmodel_davinci,\n\u001b[1;32m     <a href='vscode-notebook-cell:/Users/anqitang/code/uom/year3/year_project/uom-year3-project/chatgpt.ipynb#W2sZmlsZQ%3D%3D?line=9'>10</a>\u001b[0m       prompt\u001b[39m=\u001b[39mprompt,\n\u001b[1;32m     <a href='vscode-notebook-cell:/Users/anqitang/code/uom/year3/year_project/uom-year3-project/chatgpt.ipynb#W2sZmlsZQ%3D%3D?line=10'>11</a>\u001b[0m       temperature\u001b[39m=\u001b[39m\u001b[39m0\u001b[39m,\n\u001b[1;32m     <a href='vscode-notebook-cell:/Users/anqitang/code/uom/year3/year_project/uom-year3-project/chatgpt.ipynb#W2sZmlsZQ%3D%3D?line=11'>12</a>\u001b[0m       max_tokens\u001b[39m=\u001b[39m\u001b[39m500\u001b[39m\n\u001b[1;32m     <a href='vscode-notebook-cell:/Users/anqitang/code/uom/year3/year_project/uom-year3-project/chatgpt.ipynb#W2sZmlsZQ%3D%3D?line=12'>13</a>\u001b[0m     )\n\u001b[1;32m     <a href='vscode-notebook-cell:/Users/anqitang/code/uom/year3/year_project/uom-year3-project/chatgpt.ipynb#W2sZmlsZQ%3D%3D?line=14'>15</a>\u001b[0m results \u001b[39m=\u001b[39m json\u001b[39m.\u001b[39mloads(response[\u001b[39m\"\u001b[39m\u001b[39mchoices\u001b[39m\u001b[39m\"\u001b[39m][\u001b[39m0\u001b[39m][\u001b[39m\"\u001b[39m\u001b[39mtext\u001b[39m\u001b[39m\"\u001b[39m])\n",
      "\u001b[0;31mNameError\u001b[0m: name 'insert_tweets' is not defined"
     ]
    }
   ],
   "source": [
    "prompt = f'''Classify the sentiment in these tweets, using 1, 0, -1 to represent positive, neutral and negative respectively. The result should be json format.\n",
    "\n",
    "{insert_tweets(dataset)}\n",
    "\n",
    "The result should be json format.\n",
    "'''\n",
    "\n",
    "response = openai.Completion.create(\n",
    "      model=model_davinci,\n",
    "      prompt=prompt,\n",
    "      temperature=0,\n",
    "      max_tokens=500\n",
    "    )\n",
    "\n",
    "results = json.loads(response[\"choices\"][0][\"text\"])\n",
    "results"
   ]
  },
  {
   "cell_type": "code",
   "execution_count": 128,
   "metadata": {},
   "outputs": [],
   "source": [
    "for i in range(len(results)):\n",
    "    sentiment = results[str(i)]\n",
    "\n",
    "    if 'sentiment' not in dataset[i].keys():\n",
    "        dataset[i].update(\n",
    "            { \"sentiment\" : {} }\n",
    "        )\n",
    "\n",
    "    dataset[i][\"sentiment\"].update(\n",
    "        { \"openai\" : sentiment }\n",
    "    )\n",
    "    \n",
    "\n",
    "with open(path_dataset, \"w\") as f:\n",
    "    json.dump(dataset, f, indent=2)"
   ]
  }
 ],
 "metadata": {
  "kernelspec": {
   "display_name": "Python 3 (ipykernel)",
   "language": "python",
   "name": "python3"
  },
  "orig_nbformat": 4,
  "vscode": {
   "interpreter": {
    "hash": "d58456bdcf71a0aafcc61ee26750cc6fcc46b3f534d6a5983f0e2590bcc774fc"
   }
  }
 },
 "nbformat": 4,
 "nbformat_minor": 2
}
