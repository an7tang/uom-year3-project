{
 "cells": [
  {
   "cell_type": "code",
   "execution_count": 19,
   "metadata": {},
   "outputs": [],
   "source": [
    "import sys\n",
    "sys.path.insert(1, \"/home/p11333at/nlp-project/script/\")\n",
    "from tweets_collector import *\n",
    "import re\n",
    "import os\n",
    "import json"
   ]
  },
  {
   "cell_type": "markdown",
   "metadata": {},
   "source": [
    "### Collect tweets count for recent 7 days"
   ]
  },
  {
   "cell_type": "code",
   "execution_count": 20,
   "metadata": {},
   "outputs": [],
   "source": [
    "collector = TweetsCollector()\n",
    "\n",
    "query = \"(covid OR covid19 OR covid-19 OR coronavirus OR (corona virus) OR pandemic) -is:retweet lang:en\"\n",
    "\n",
    "day_counts = collector.client.get_recent_tweets_count(query=query, granularity='day')\n"
   ]
  },
  {
   "cell_type": "code",
   "execution_count": 21,
   "metadata": {},
   "outputs": [
    {
     "data": {
      "text/plain": [
       "{'2023-02-27': {'total': 126965, 'hourly': {}},\n",
       " '2023-02-28': {'total': 141997, 'hourly': {}},\n",
       " '2023-03-01': {'total': 136187, 'hourly': {}},\n",
       " '2023-03-02': {'total': 120969, 'hourly': {}},\n",
       " '2023-03-03': {'total': 109937, 'hourly': {}},\n",
       " '2023-03-04': {'total': 95729, 'hourly': {}}}"
      ]
     },
     "execution_count": 21,
     "metadata": {},
     "output_type": "execute_result"
    }
   ],
   "source": [
    "output = {}\n",
    "for i, day in enumerate(day_counts.data):\n",
    "    if i == 0 or i == len(day_counts.data)-1:\n",
    "        continue\n",
    "    date = re.search(r\"\\d{4}-\\d{2}-\\d{2}\", day[\"start\"]).group(0)\n",
    "    count = day[\"tweet_count\"]\n",
    "    output.update(\n",
    "        {date : \n",
    "            {\"total\" : count,\n",
    "             \"hourly\" : {}}\n",
    "        }\n",
    "    )\n",
    "output"
   ]
  },
  {
   "cell_type": "code",
   "execution_count": 22,
   "metadata": {},
   "outputs": [
    {
     "name": "stdout",
     "output_type": "stream",
     "text": [
      "The start time : '2023-02-27T00:00:00Z'\n",
      "The  end  time : '2023-03-05T00:00:00Z'\n"
     ]
    }
   ],
   "source": [
    "# backward_days = 1   # Set to 1 to collect yesterday's (Max: 6) \n",
    "# collection_date = today(backward_days)\n",
    "# start_time = collection_date\n",
    "# end_time = today(backward_days) + timedelta(days=1, seconds=-1)\n",
    "# print(f\"The date: '{collection_date.strftime('%Y-%m-%dT%H:%M:%SZ')}' -> \\033[32m{backward_days} day(s) ago\\033[0m\")\n",
    "\n",
    "start_time = today(6)\n",
    "end_time = today(1) + timedelta(days=1)\n",
    "print(f\"The start time : '{start_time.strftime('%Y-%m-%dT%H:%M:%SZ')}'\")\n",
    "print(f\"The  end  time : '{end_time.strftime('%Y-%m-%dT%H:%M:%SZ')}'\")\n",
    "\n",
    "hour_counts = collector.client.get_recent_tweets_count(query=query, granularity='hour', start_time=start_time, end_time=end_time)\n"
   ]
  },
  {
   "cell_type": "code",
   "execution_count": 5,
   "metadata": {},
   "outputs": [],
   "source": [
    "for hour in hour_counts.data:\n",
    "    start = hour[\"start\"]\n",
    "    date = re.search(r\"\\d{4}-\\d{2}-\\d{2}\", start).group(0)\n",
    "    time = re.search(r\"\\d{2}:\\d{2}:\\d{2}\", start).group(0)\n",
    "    # print(time, \":\", hour[\"tweet_count\"])\n",
    "    output[date][\"hourly\"].update({time : hour[\"tweet_count\"]})\n",
    "\n",
    "# start, hour_counts.data"
   ]
  },
  {
   "cell_type": "markdown",
   "metadata": {},
   "source": [
    "### Store results in dict"
   ]
  },
  {
   "cell_type": "markdown",
   "metadata": {},
   "source": [
    "### Output results to file"
   ]
  },
  {
   "cell_type": "code",
   "execution_count": 6,
   "metadata": {},
   "outputs": [
    {
     "name": "stdout",
     "output_type": "stream",
     "text": [
      "The tweet counts is recorded in 'meta.json' file.\n"
     ]
    }
   ],
   "source": [
    "filename_meta = \"meta.json\"\n",
    "path = \"/home/p11333at/nlp-project/data/\"\n",
    "\n",
    "if os.path.exists(f\"{path}{filename_meta}\"):\n",
    "    with open(f\"{path}{filename_meta}\", \"r+\") as f:\n",
    "        meta = json.load(f)\n",
    "        meta.update(output)\n",
    "\n",
    "        f.seek(0)\n",
    "        json.dump(meta, f, indent=2)\n",
    "        f.truncate()\n",
    "else:\n",
    "    with open(f\"{path}{filename_meta}\", \"w\") as f:\n",
    "        json.dump(output, f, indent=2)\n",
    "\n",
    "print(f\"The tweet counts is recorded in '{filename_meta}' file.\")"
   ]
  },
  {
   "cell_type": "markdown",
   "metadata": {},
   "source": [
    "END"
   ]
  }
 ],
 "metadata": {
  "kernelspec": {
   "display_name": "Python 3 (ipykernel)",
   "language": "python",
   "name": "python3"
  },
  "language_info": {
   "codemirror_mode": {
    "name": "ipython",
    "version": 3
   },
   "file_extension": ".py",
   "mimetype": "text/x-python",
   "name": "python",
   "nbconvert_exporter": "python",
   "pygments_lexer": "ipython3",
   "version": "3.9.12"
  },
  "vscode": {
   "interpreter": {
    "hash": "d58456bdcf71a0aafcc61ee26750cc6fcc46b3f534d6a5983f0e2590bcc774fc"
   }
  }
 },
 "nbformat": 4,
 "nbformat_minor": 4
}
